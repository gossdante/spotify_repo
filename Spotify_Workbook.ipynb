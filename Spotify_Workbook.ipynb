{
 "cells": [
  {
   "cell_type": "markdown",
   "id": "6974153a",
   "metadata": {},
   "source": [
    "# Spotify Exploration\n",
    "\n",
    "As of now (8/17/2023) I have only done this in R. So before we create the functions, we will recreate the functionality of my R script. \n",
    "\n",
    "1. Install Necessary Packages\n",
    "2. Set system environments appropriately for Spotify ID's\n",
    "3. Experiment with the Spotipy package\n",
    "a. Get songs from an artist\n",
    "b. Using track_id, get the song info (length, tempo, danceability, energy)\n",
    "4. How many songs do I have saved?\n",
    "5. Read in names of all songs\n",
    "6. Get relevant data from all songs\n",
    "7. Manage the dataframe\n",
    "8. Create playlist groupings by tempo\n",
    "9. Create playlist groupings by danceability\n",
    "10. Create playlist groupings by energy\n",
    "11. Write Playlist\n",
    "12. Work with functions"
   ]
  },
  {
   "cell_type": "markdown",
   "id": "1e8cf9ce",
   "metadata": {},
   "source": [
    "# 1. Import Packages"
   ]
  },
  {
   "cell_type": "code",
   "execution_count": 8,
   "id": "9a5e8f07",
   "metadata": {},
   "outputs": [],
   "source": [
    "import config\n",
    "import pandas as pd\n",
    "import numpy as np\n",
    "import os\n",
    "import spotipy\n",
    "from spotipy.oauth2 import SpotifyOAuth"
   ]
  },
  {
   "cell_type": "markdown",
   "id": "0b5bc2c1",
   "metadata": {},
   "source": [
    "# 2. Authorization\n",
    "\n",
    "Here we'll keep an example code from Spotipy for client authorizaiton (search spotify database but not any user data)\n",
    "import spotipy\n",
    "from spotipy.oauth2 import SpotifyClientCredentials\n",
    "\n",
    "auth_manager = SpotifyClientCredentials()\n",
    "sp = spotipy.Spotify(auth_manager=auth_manager)\n",
    "\n",
    "playlists = sp.user_playlists('spotify')\n",
    "while playlists:\n",
    "    for i, playlist in enumerate(playlists['items']):\n",
    "        print(\"%4d %s %s\" % (i + 1 + playlists['offset'], playlist['uri'],  playlist['name']))\n",
    "    if playlists['next']:\n",
    "        playlists = sp.next(playlists)\n",
    "    else:\n",
    "        playlists = None"
   ]
  },
  {
   "cell_type": "markdown",
   "id": "baab9179",
   "metadata": {},
   "source": [
    "Set system environments"
   ]
  },
  {
   "cell_type": "code",
   "execution_count": 18,
   "id": "a020cd2c",
   "metadata": {},
   "outputs": [],
   "source": [
    "os.environ[\"SPOTIPY_CLIENT_ID\"] = config.SPOTIPY_CLIENT_ID\n",
    "os.environ[\"SPOTIPY_CLIENT_SECRET\"] = config.SPOTIPY_CLIENT_SECRET\n",
    "os.environ[\"SPOTIPY_REDIRECT_URI\"] = config.SPOTIPY_REDIRECT_URI"
   ]
  },
  {
   "cell_type": "markdown",
   "id": "14029baa",
   "metadata": {},
   "source": [
    "Set scope & do a data pull\n",
    "\n",
    "* Note that \"user-library-read\" is the only necessary scope to read saved tracks"
   ]
  },
  {
   "cell_type": "code",
   "execution_count": 20,
   "id": "cfe44401",
   "metadata": {},
   "outputs": [
    {
     "name": "stdout",
     "output_type": "stream",
     "text": [
      "0 Post Malone  –  Don't Understand\n",
      "1 Dominic Fike  –  3 Nights\n",
      "2 Dominic Fike  –  Double Negative (Skeleton Milkshake)\n",
      "3 Post Malone  –  Something Real\n",
      "4 Lit  –  My Own Worst Enemy\n",
      "5 J. Cole  –  h u n g e r . o n . h i l l s i d e (with Bas)\n",
      "6 J. Cole  –  a p p l y i n g . p r e s s u r e\n",
      "7 J. Cole  –  m y . l i f e (with 21 Savage & Morray)\n",
      "8 J. Cole  –  p u n c h i n ‘ . t h e . c l o c k\n",
      "9 J. Cole  –  9 5 . s o u t h\n",
      "10 J. Cole  –  a m a r i\n",
      "11 BlocBoy JB  –  Look Alive (feat. Drake)\n",
      "12 J. Cole  –  1 0 0 . m i l ‘ (with Bas)\n",
      "13 jxdn  –  ANGELS & DEMONS\n",
      "14 The White Stripes  –  Seven Nation Army\n",
      "15 Nirvana  –  Come As You Are\n",
      "16 Sublime  –  Santeria\n",
      "17 100 gecs  –  Hollywood Baby\n",
      "18 Lovejoy  –  Call Me What You Like\n",
      "19 J Balvin  –  LA CANCIÓN\n"
     ]
    }
   ],
   "source": [
    "scope = \"user-library-read playlist-read-private playlist-modify-public playlist-modify-private\"\n",
    "\n",
    "sp = spotipy.Spotify(auth_manager=SpotifyOAuth(scope=scope))\n",
    "\n",
    "profile = sp.current_user()\n",
    "results = sp.current_user_saved_tracks(limit = 20, offset = 0, market = None)\n",
    "\n",
    "for idx, item in enumerate(results['items']):\n",
    "    \n",
    "    track = item['track']\n",
    "    print(idx, track['artists'][0]['name'], \" – \", track['name'])"
   ]
  },
  {
   "cell_type": "code",
   "execution_count": null,
   "id": "368a0767",
   "metadata": {},
   "outputs": [],
   "source": []
  }
 ],
 "metadata": {
  "kernelspec": {
   "display_name": "Python 3 (ipykernel)",
   "language": "python",
   "name": "python3"
  },
  "language_info": {
   "codemirror_mode": {
    "name": "ipython",
    "version": 3
   },
   "file_extension": ".py",
   "mimetype": "text/x-python",
   "name": "python",
   "nbconvert_exporter": "python",
   "pygments_lexer": "ipython3",
   "version": "3.11.1"
  }
 },
 "nbformat": 4,
 "nbformat_minor": 5
}
