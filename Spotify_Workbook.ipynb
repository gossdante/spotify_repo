{
 "cells": [
  {
   "cell_type": "markdown",
   "id": "6974153a",
   "metadata": {},
   "source": [
    "# Spotify Exploration\n",
    "\n",
    "As of now (8/17/2023) I have only done this in R. So before we create the functions, we will recreate the functionality of my R script. \n",
    "\n",
    "1. Install Necessary Packages\n",
    "2. Set system environments appropriately for Spotify ID's\n",
    "3. Experiment with the Spotipy package\n",
    "a. Get songs from an artist\n",
    "b. Using track_id, get the song info (length, tempo, danceability, energy)\n",
    "4. How many songs do I have saved?\n",
    "5. Read in names of all songs\n",
    "6. Get relevant data from all songs\n",
    "7. Manage the dataframe\n",
    "8. Create playlist groupings by tempo\n",
    "9. Create playlist groupings by danceability\n",
    "10. Create playlist groupings by energy\n",
    "11. Write Playlist\n",
    "12. Work with functions"
   ]
  },
  {
   "cell_type": "markdown",
   "id": "1e8cf9ce",
   "metadata": {},
   "source": [
    "# 1. Import Packages"
   ]
  },
  {
   "cell_type": "code",
   "execution_count": 1,
   "id": "9a5e8f07",
   "metadata": {},
   "outputs": [],
   "source": [
    "import config\n",
    "import pandas as pd\n",
    "import numpy as np\n",
    "import os\n",
    "import spotipy\n",
    "from spotipy.oauth2 import SpotifyOAuth"
   ]
  },
  {
   "cell_type": "markdown",
   "id": "0b5bc2c1",
   "metadata": {},
   "source": [
    "# 2. Authorization\n",
    "\n",
    "Here we'll keep an example code from Spotipy for client authorizaiton (search spotify database but not any user data)\n",
    "import spotipy\n",
    "from spotipy.oauth2 import SpotifyClientCredentials\n",
    "\n",
    "auth_manager = SpotifyClientCredentials()\n",
    "sp = spotipy.Spotify(auth_manager=auth_manager)\n",
    "\n",
    "playlists = sp.user_playlists('spotify')\n",
    "while playlists:\n",
    "    for i, playlist in enumerate(playlists['items']):\n",
    "        print(\"%4d %s %s\" % (i + 1 + playlists['offset'], playlist['uri'],  playlist['name']))\n",
    "    if playlists['next']:\n",
    "        playlists = sp.next(playlists)\n",
    "    else:\n",
    "        playlists = None"
   ]
  },
  {
   "cell_type": "markdown",
   "id": "baab9179",
   "metadata": {},
   "source": [
    "Set system environments"
   ]
  },
  {
   "cell_type": "code",
   "execution_count": 2,
   "id": "a020cd2c",
   "metadata": {},
   "outputs": [],
   "source": [
    "os.environ[\"SPOTIPY_CLIENT_ID\"] = config.SPOTIPY_CLIENT_ID\n",
    "os.environ[\"SPOTIPY_CLIENT_SECRET\"] = config.SPOTIPY_CLIENT_SECRET\n",
    "os.environ[\"SPOTIPY_REDIRECT_URI\"] = config.SPOTIPY_REDIRECT_URI"
   ]
  },
  {
   "cell_type": "markdown",
   "id": "14029baa",
   "metadata": {},
   "source": [
    "Set scope & do a data pull\n",
    "\n",
    "* Note that \"user-library-read\" is the only necessary scope to read saved tracks"
   ]
  },
  {
   "cell_type": "code",
   "execution_count": 3,
   "id": "cfe44401",
   "metadata": {},
   "outputs": [
    {
     "name": "stdout",
     "output_type": "stream",
     "text": [
      "0 Post Malone  –  Don't Understand\n",
      "1 Dominic Fike  –  3 Nights\n",
      "2 Dominic Fike  –  Double Negative (Skeleton Milkshake)\n",
      "3 Post Malone  –  Something Real\n",
      "4 Lit  –  My Own Worst Enemy\n",
      "5 J. Cole  –  h u n g e r . o n . h i l l s i d e (with Bas)\n",
      "6 J. Cole  –  a p p l y i n g . p r e s s u r e\n",
      "7 J. Cole  –  m y . l i f e (with 21 Savage & Morray)\n",
      "8 J. Cole  –  p u n c h i n ‘ . t h e . c l o c k\n",
      "9 J. Cole  –  9 5 . s o u t h\n",
      "10 J. Cole  –  a m a r i\n",
      "11 BlocBoy JB  –  Look Alive (feat. Drake)\n",
      "12 J. Cole  –  1 0 0 . m i l ‘ (with Bas)\n",
      "13 jxdn  –  ANGELS & DEMONS\n",
      "14 The White Stripes  –  Seven Nation Army\n",
      "15 Nirvana  –  Come As You Are\n",
      "16 Sublime  –  Santeria\n",
      "17 100 gecs  –  Hollywood Baby\n",
      "18 Lovejoy  –  Call Me What You Like\n",
      "19 J Balvin  –  LA CANCIÓN\n"
     ]
    }
   ],
   "source": [
    "scope = \"user-library-read playlist-read-private playlist-modify-public playlist-modify-private\"\n",
    "\n",
    "sp = spotipy.Spotify(auth_manager=SpotifyOAuth(scope=scope))\n",
    "\n",
    "profile = sp.current_user()\n",
    "results = sp.current_user_saved_tracks(limit = 20, offset = 0, market = None)\n",
    "\n",
    "# Item is a specific \"row\". Or a single song\n",
    "for idx, item in enumerate(results['items']):\n",
    "    \n",
    "    track = item['track']\n",
    "    print(idx, track['artists'][0]['name'], \" – \", track['name'])"
   ]
  },
  {
   "cell_type": "markdown",
   "id": "c62773d7",
   "metadata": {},
   "source": [
    "For each song that you get from current_user_saved_tracks, the variable will have two pieces ('added at', and 'track')"
   ]
  },
  {
   "cell_type": "code",
   "execution_count": 39,
   "id": "470dab90",
   "metadata": {},
   "outputs": [
    {
     "name": "stdout",
     "output_type": "stream",
     "text": [
      "you have 4411 saved songs\n"
     ]
    }
   ],
   "source": [
    "print('you have', results['total'], 'saved songs')"
   ]
  },
  {
   "cell_type": "code",
   "execution_count": 4,
   "id": "368a0767",
   "metadata": {},
   "outputs": [
    {
     "data": {
      "text/plain": [
       "{'display_name': 'Dante Goss',\n",
       " 'external_urls': {'spotify': 'https://open.spotify.com/user/1218158724'},\n",
       " 'href': 'https://api.spotify.com/v1/users/1218158724',\n",
       " 'id': '1218158724',\n",
       " 'images': [{'url': 'https://scontent.fvga9-1.fna.fbcdn.net/v/t39.30808-1/287739885_5170783559641650_7329131775805179735_n.jpg?stp=cp0_dst-jpg_p50x50&_nc_cat=108&ccb=1-7&_nc_sid=dbb9e7&_nc_ohc=MLQy0-zrAaoAX_zBLVX&_nc_ht=scontent.fvga9-1.fna&edm=AP4hL3IEAAAA&oh=00_AfDLUYXX875jdqTjL9umb3p-ioGkdDVqpGZ0WOot00nnRw&oe=64E38975',\n",
       "   'height': 64,\n",
       "   'width': 64},\n",
       "  {'url': 'https://scontent.fvga9-1.fna.fbcdn.net/v/t39.30808-1/287739885_5170783559641650_7329131775805179735_n.jpg?stp=dst-jpg_p320x320&_nc_cat=108&ccb=1-7&_nc_sid=0c64ff&_nc_ohc=MLQy0-zrAaoAX_zBLVX&_nc_ht=scontent.fvga9-1.fna&edm=AP4hL3IEAAAA&oh=00_AfBBkUt3w7Qb2DvaxBLWBw_3gEU6mjDqZjbywMYVMBycnw&oe=64E38975',\n",
       "   'height': 300,\n",
       "   'width': 300}],\n",
       " 'type': 'user',\n",
       " 'uri': 'spotify:user:1218158724',\n",
       " 'followers': {'href': None, 'total': 15}}"
      ]
     },
     "execution_count": 4,
     "metadata": {},
     "output_type": "execute_result"
    }
   ],
   "source": [
    "profile[]"
   ]
  },
  {
   "cell_type": "code",
   "execution_count": 33,
   "id": "a27ae11a",
   "metadata": {},
   "outputs": [
    {
     "name": "stdout",
     "output_type": "stream",
     "text": [
      "track id:  0fea68AdmYNygeTGI4RC18\n",
      "track name:  LA CANCIÓN\n",
      "track length in seconds:  242.573\n",
      "album name:  OASIS\n",
      "first artist:  J Balvin\n"
     ]
    },
    {
     "data": {
      "text/plain": [
       "2"
      ]
     },
     "execution_count": 33,
     "metadata": {},
     "output_type": "execute_result"
    }
   ],
   "source": [
    "# item is a dictionary\n",
    "print('track id: ', item['track']['id'])\n",
    "\n",
    "print('track name: ', item['track']['name'])\n",
    "\n",
    "print('track length in seconds: ',item['track']['duration_ms']/1000)\n",
    "\n",
    "print('album name: ',item['track']['album']['name'])\n",
    "\n",
    "print('first artist: ', item['track']['artists'][0]['name'])\n",
    "\n",
    "print('number of artists: ', len(item['track']['artists']))\n"
   ]
  },
  {
   "cell_type": "code",
   "execution_count": null,
   "id": "fae96728",
   "metadata": {},
   "outputs": [],
   "source": []
  }
 ],
 "metadata": {
  "kernelspec": {
   "display_name": "Python 3 (ipykernel)",
   "language": "python",
   "name": "python3"
  },
  "language_info": {
   "codemirror_mode": {
    "name": "ipython",
    "version": 3
   },
   "file_extension": ".py",
   "mimetype": "text/x-python",
   "name": "python",
   "nbconvert_exporter": "python",
   "pygments_lexer": "ipython3",
   "version": "3.11.1"
  }
 },
 "nbformat": 4,
 "nbformat_minor": 5
}
