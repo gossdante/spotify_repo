{
 "cells": [
  {
   "cell_type": "markdown",
   "id": "6974153a",
   "metadata": {},
   "source": [
    "# Spotify Exploration\n",
    "\n",
    "As of now (8/17/2023) I have only done this in R. So before we create the functions, we will recreate the functionality of my R script. \n",
    "\n",
    "1. Install Necessary Packages\n",
    "2. Set system environments appropriately for Spotify ID's\n",
    "3. Experiment with the Spotipy package\n",
    "a. Get songs from an artist\n",
    "b. Using track_id, get the song info (length, tempo, danceability, energy)\n",
    "4. How many songs do I have saved?\n",
    "5. Read in names of all songs\n",
    "6. Get relevant data from all songs\n",
    "7. Manage the dataframe\n",
    "8. Create playlist groupings by tempo\n",
    "9. Create playlist groupings by danceability\n",
    "10. Create playlist groupings by energy\n",
    "11. Write Playlist\n",
    "12. Work with functions"
   ]
  },
  {
   "cell_type": "markdown",
   "id": "1e8cf9ce",
   "metadata": {},
   "source": [
    "# 1. Import Packages"
   ]
  },
  {
   "cell_type": "code",
   "execution_count": 1,
   "id": "9a5e8f07",
   "metadata": {},
   "outputs": [],
   "source": [
    "import config\n",
    "import pandas as pd\n",
    "import numpy as np\n",
    "import os\n",
    "import spotipy\n",
    "from spotipy.oauth2 import SpotifyOAuth"
   ]
  },
  {
   "cell_type": "markdown",
   "id": "0b5bc2c1",
   "metadata": {},
   "source": [
    "# 2. Authorization\n",
    "\n",
    "Here we'll keep an example code from Spotipy for client authorizaiton (search spotify database but not any user data)\n",
    "import spotipy\n",
    "from spotipy.oauth2 import SpotifyClientCredentials\n",
    "\n",
    "auth_manager = SpotifyClientCredentials()\n",
    "sp = spotipy.Spotify(auth_manager=auth_manager)\n",
    "\n",
    "playlists = sp.user_playlists('spotify')\n",
    "while playlists:\n",
    "    for i, playlist in enumerate(playlists['items']):\n",
    "        print(\"%4d %s %s\" % (i + 1 + playlists['offset'], playlist['uri'],  playlist['name']))\n",
    "    if playlists['next']:\n",
    "        playlists = sp.next(playlists)\n",
    "    else:\n",
    "        playlists = None"
   ]
  },
  {
   "cell_type": "markdown",
   "id": "baab9179",
   "metadata": {},
   "source": [
    "Set system environments"
   ]
  },
  {
   "cell_type": "code",
   "execution_count": 5,
   "id": "a020cd2c",
   "metadata": {},
   "outputs": [],
   "source": [
    "os.environ[\"SPOTIPY_CLIENT_ID\"] = config.SPOTIPY_CLIENT_ID\n",
    "os.environ[\"SPOTIPY_CLIENT_SECRET\"] = config.SPOTIPY_CLIENT_SECRET\n",
    "os.environ[\"SPOTIPY_REDIRECT_URI\"] = config.SPOTIPY_REDIRECT_URI"
   ]
  },
  {
   "cell_type": "markdown",
   "id": "14029baa",
   "metadata": {},
   "source": [
    "Set scope & do a data pull\n",
    "\n",
    "* Note that \"user-library-read\" is the only necessary scope to read saved tracks"
   ]
  },
  {
   "cell_type": "code",
   "execution_count": 6,
   "id": "cfe44401",
   "metadata": {},
   "outputs": [
    {
     "name": "stdout",
     "output_type": "stream",
     "text": [
      "0 Lil Uzi Vert  –  Watch This - ARIZONATEARS Pluggnb Remix\n",
      "1 Post Malone  –  Don't Understand\n",
      "2 Dominic Fike  –  3 Nights\n",
      "3 Dominic Fike  –  Double Negative (Skeleton Milkshake)\n",
      "4 Post Malone  –  Something Real\n",
      "5 Lit  –  My Own Worst Enemy\n",
      "6 J. Cole  –  h u n g e r . o n . h i l l s i d e (with Bas)\n",
      "7 J. Cole  –  a p p l y i n g . p r e s s u r e\n",
      "8 J. Cole  –  m y . l i f e (with 21 Savage & Morray)\n",
      "9 J. Cole  –  p u n c h i n ‘ . t h e . c l o c k\n",
      "10 J. Cole  –  9 5 . s o u t h\n",
      "11 J. Cole  –  a m a r i\n",
      "12 BlocBoy JB  –  Look Alive (feat. Drake)\n",
      "13 J. Cole  –  1 0 0 . m i l ‘ (with Bas)\n",
      "14 jxdn  –  ANGELS & DEMONS\n",
      "15 The White Stripes  –  Seven Nation Army\n",
      "16 Nirvana  –  Come As You Are\n",
      "17 Sublime  –  Santeria\n",
      "18 100 gecs  –  Hollywood Baby\n",
      "19 Lovejoy  –  Call Me What You Like\n"
     ]
    }
   ],
   "source": [
    "scope = \"user-library-read playlist-read-private playlist-modify-public playlist-modify-private\"\n",
    "\n",
    "sp = spotipy.Spotify(auth_manager=SpotifyOAuth(scope=scope))\n",
    "\n",
    "profile = sp.current_user()\n",
    "results = sp.current_user_saved_tracks(limit = 20, offset = 0, market = None)\n",
    "\n",
    "# Item is a specific \"row\". Or a single song\n",
    "for idx, item in enumerate(results['items']):\n",
    "    \n",
    "    track = item['track']\n",
    "    print(idx, track['artists'][0]['name'], \" – \", track['name'])"
   ]
  },
  {
   "cell_type": "markdown",
   "id": "c62773d7",
   "metadata": {},
   "source": [
    "For each song that you get from current_user_saved_tracks, the variable will have two pieces ('added at', and 'track')"
   ]
  },
  {
   "cell_type": "code",
   "execution_count": 7,
   "id": "470dab90",
   "metadata": {},
   "outputs": [
    {
     "name": "stdout",
     "output_type": "stream",
     "text": [
      "you have 4412 saved songs\n"
     ]
    }
   ],
   "source": [
    "print('you have', results['total'], 'saved songs')"
   ]
  },
  {
   "cell_type": "code",
   "execution_count": 9,
   "id": "368a0767",
   "metadata": {},
   "outputs": [
    {
     "data": {
      "text/plain": [
       "{'display_name': 'Dante Goss',\n",
       " 'external_urls': {'spotify': 'https://open.spotify.com/user/1218158724'},\n",
       " 'href': 'https://api.spotify.com/v1/users/1218158724',\n",
       " 'id': '1218158724',\n",
       " 'images': [{'url': 'https://scontent-atl3-1.xx.fbcdn.net/v/t39.30808-1/287739885_5170783559641650_7329131775805179735_n.jpg?stp=cp0_dst-jpg_p50x50&_nc_cat=108&ccb=1-7&_nc_sid=dbb9e7&_nc_ohc=MLQy0-zrAaoAX8LGpN5&_nc_ht=scontent-atl3-1.xx&edm=AP4hL3IEAAAA&oh=00_AfD1LdFLELVwMMa0UNWK-z-boyQ6Rn1PcvzJvFqojvExYw&oe=64E38975',\n",
       "   'height': 64,\n",
       "   'width': 64},\n",
       "  {'url': 'https://scontent-atl3-1.xx.fbcdn.net/v/t39.30808-1/287739885_5170783559641650_7329131775805179735_n.jpg?stp=dst-jpg_p320x320&_nc_cat=108&ccb=1-7&_nc_sid=0c64ff&_nc_ohc=MLQy0-zrAaoAX8LGpN5&_nc_ht=scontent-atl3-1.xx&edm=AP4hL3IEAAAA&oh=00_AfAOx10JDaS5Z7iKHqKil7BfIJmWBRGp4g0CBFwNp6ji5A&oe=64E38975',\n",
       "   'height': 300,\n",
       "   'width': 300}],\n",
       " 'type': 'user',\n",
       " 'uri': 'spotify:user:1218158724',\n",
       " 'followers': {'href': None, 'total': 15},\n",
       " 'country': 'US',\n",
       " 'product': 'premium',\n",
       " 'explicit_content': {'filter_enabled': False, 'filter_locked': False},\n",
       " 'email': 'ddg1210@gmail.com'}"
      ]
     },
     "execution_count": 9,
     "metadata": {},
     "output_type": "execute_result"
    }
   ],
   "source": [
    "profile"
   ]
  },
  {
   "cell_type": "code",
   "execution_count": 10,
   "id": "a27ae11a",
   "metadata": {},
   "outputs": [
    {
     "name": "stdout",
     "output_type": "stream",
     "text": [
      "track id:  2QF8FbGBTXTzm0CRUWqndE\n",
      "track name:  Call Me What You Like\n",
      "track length in seconds:  226.96\n",
      "album name:  Wake Up & It's Over\n",
      "first artist:  Lovejoy\n",
      "number of artists:  1\n"
     ]
    }
   ],
   "source": [
    "# item is a dictionary\n",
    "print('track id: ', item['track']['id'])\n",
    "\n",
    "print('track name: ', item['track']['name'])\n",
    "\n",
    "print('track length in seconds: ',item['track']['duration_ms']/1000)\n",
    "\n",
    "print('album name: ',item['track']['album']['name'])\n",
    "\n",
    "print('first artist: ', item['track']['artists'][0]['name'])\n",
    "\n",
    "print('number of artists: ', len(item['track']['artists']))\n"
   ]
  },
  {
   "cell_type": "code",
   "execution_count": 45,
   "id": "fae96728",
   "metadata": {},
   "outputs": [
    {
     "ename": "TypeError",
     "evalue": "tuple indices must be integers or slices, not str",
     "output_type": "error",
     "traceback": [
      "\u001b[1;31m---------------------------------------------------------------------------\u001b[0m",
      "\u001b[1;31mTypeError\u001b[0m                                 Traceback (most recent call last)",
      "Cell \u001b[1;32mIn[45], line 9\u001b[0m\n\u001b[0;32m      5\u001b[0m result \u001b[39m=\u001b[39m sp\u001b[39m.\u001b[39mcurrent_user_saved_tracks(limit \u001b[39m=\u001b[39m \u001b[39m20\u001b[39m, offset \u001b[39m=\u001b[39m \u001b[39m0\u001b[39m, market \u001b[39m=\u001b[39m \u001b[39mNone\u001b[39;00m)\n\u001b[0;32m      6\u001b[0m \u001b[39mfor\u001b[39;00m item \u001b[39min\u001b[39;00m \u001b[39menumerate\u001b[39m(result[\u001b[39m'\u001b[39m\u001b[39mitems\u001b[39m\u001b[39m'\u001b[39m]):\n\u001b[0;32m      7\u001b[0m     d\u001b[39m.\u001b[39mappend(\n\u001b[0;32m      8\u001b[0m         {\n\u001b[1;32m----> 9\u001b[0m             \u001b[39m'\u001b[39m\u001b[39mTrack_Name\u001b[39m\u001b[39m'\u001b[39m : item[\u001b[39m'\u001b[39;49m\u001b[39mtrack\u001b[39;49m\u001b[39m'\u001b[39;49m][\u001b[39m'\u001b[39m\u001b[39mname\u001b[39m\u001b[39m'\u001b[39m],\n\u001b[0;32m     10\u001b[0m             \u001b[39m'\u001b[39m\u001b[39mTrack_Id\u001b[39m\u001b[39m'\u001b[39m : item[\u001b[39m'\u001b[39m\u001b[39mtrack\u001b[39m\u001b[39m'\u001b[39m][\u001b[39m'\u001b[39m\u001b[39mid\u001b[39m\u001b[39m'\u001b[39m],\n\u001b[0;32m     11\u001b[0m             \u001b[39m'\u001b[39m\u001b[39mArtist_Name\u001b[39m\u001b[39m'\u001b[39m : item[\u001b[39m'\u001b[39m\u001b[39mtrack\u001b[39m\u001b[39m'\u001b[39m][\u001b[39m'\u001b[39m\u001b[39martists\u001b[39m\u001b[39m'\u001b[39m][\u001b[39m0\u001b[39m][\u001b[39m'\u001b[39m\u001b[39mname\u001b[39m\u001b[39m'\u001b[39m],\n\u001b[0;32m     12\u001b[0m             \u001b[39m'\u001b[39m\u001b[39mArtist_Num\u001b[39m\u001b[39m'\u001b[39m : \u001b[39mlen\u001b[39m(item[\u001b[39m'\u001b[39m\u001b[39mtrack\u001b[39m\u001b[39m'\u001b[39m][\u001b[39m'\u001b[39m\u001b[39martists\u001b[39m\u001b[39m'\u001b[39m]),\n\u001b[0;32m     13\u001b[0m             \u001b[39m'\u001b[39m\u001b[39mTrack_Length\u001b[39m\u001b[39m'\u001b[39m : (item[\u001b[39m'\u001b[39m\u001b[39mtrack\u001b[39m\u001b[39m'\u001b[39m][\u001b[39m'\u001b[39m\u001b[39mduration_ms\u001b[39m\u001b[39m'\u001b[39m]\u001b[39m/\u001b[39m\u001b[39m1000\u001b[39m)\n\u001b[0;32m     14\u001b[0m         }\n\u001b[0;32m     15\u001b[0m     )\n\u001b[0;32m     16\u001b[0m d2 \u001b[39m=\u001b[39m pd\u001b[39m.\u001b[39mDataFrame(d)\n\u001b[0;32m     17\u001b[0m d2\u001b[39m.\u001b[39mhead()\n",
      "\u001b[1;31mTypeError\u001b[0m: tuple indices must be integers or slices, not str"
     ]
    }
   ],
   "source": [
    "# First get a loop that will capture the data we want into a df\n",
    "d =[]\n",
    "scope = \"user-library-read playlist-read-private playlist-modify-public playlist-modify-private\"\n",
    "sp = spotipy.Spotify(auth_manager=SpotifyOAuth(scope=scope))\n",
    "result = sp.current_user_saved_tracks(limit = 20, offset = 0, market = None)\n",
    "for item in enumerate(result['items']):\n",
    "    d.append(\n",
    "        {\n",
    "            'Track_Name' : item['track']['name'],\n",
    "            'Track_Id' : item['track']['id'],\n",
    "            'Artist_Name' : item['track']['artists'][0]['name'],\n",
    "            'Artist_Num' : len(item['track']['artists']),\n",
    "            'Track_Length' : (item['track']['duration_ms']/1000)\n",
    "        }\n",
    "    )\n",
    "d2 = pd.DataFrame(d)\n",
    "d2.head()\n",
    "\n",
    "# This loop didnt work"
   ]
  },
  {
   "cell_type": "code",
   "execution_count": null,
   "id": "444839d6",
   "metadata": {},
   "outputs": [],
   "source": [
    "# Now lets make a new loop\n",
    "\n",
    "# Initialize df\n",
    "df = pd.DataFrame(columns=['Track_Name','Track_ID','Artist_Name','Artist_Num','Track_Len'])\n",
    "\n",
    "# Set scope\n",
    "scope = \"user-library-read playlist-read-private playlist-modify-public playlist-modify-private\"\n",
    "# Authorize\n",
    "sp = spotipy.Spotify(auth_manager=SpotifyOAuth(scope=scope))\n",
    "# Get saved tracks\n",
    "result = sp.current_user_saved_tracks(limit = 20, offset = 0, market = None)\n",
    "# Loop through Saved tracks\n",
    "for item in result['items']:\n",
    "    track = item['track']\n",
    "    df = df.append({\n",
    "        'Track_Name': track['name'],\n",
    "        'Track_ID' : track['id'],\n",
    "        'Artist_Name' : track['artists'][0]['name'],\n",
    "        'Artist_Num' : len(track['artists']),\n",
    "        'Track_Len' : track['duration_ms']/1000\n",
    "    })\n",
    "# Note given that frame.append is deprecated and will be removed. Use pandas.concat"
   ]
  },
  {
   "cell_type": "code",
   "execution_count": 47,
   "id": "7a2d31b5",
   "metadata": {},
   "outputs": [
    {
     "name": "stdout",
     "output_type": "stream",
     "text": [
      "                                        Track_Name                Track_ID  \\\n",
      "0          Watch This - ARIZONATEARS Pluggnb Remix  0FA4wrjDJvJTTU8AepZTup   \n",
      "1                                 Don't Understand  4MTuL20LF3pWebeJbcNh7p   \n",
      "2                                         3 Nights  0uI7yAKUf52Cn7y3sYyjiX   \n",
      "3             Double Negative (Skeleton Milkshake)  7ACT6YaXbYvl7hRWEOOEHQ   \n",
      "4                                   Something Real  444vevlQjTnKioLLncteGv   \n",
      "5                               My Own Worst Enemy  33iv3wnGMrrDugd7GBso1z   \n",
      "6   h u n g e r . o n . h i l l s i d e (with Bas)  5BwQjRasNcdRPuVWKcHto2   \n",
      "7                a p p l y i n g . p r e s s u r e  1d7q712nXjG98HiwHk7HFS   \n",
      "8          m y . l i f e (with 21 Savage & Morray)  1D3z6HTiQsNmZxjl7F7eoG   \n",
      "9              p u n c h i n ‘ . t h e . c l o c k  57ZUX6TNyKLBydAdVVd02x   \n",
      "10                                 9 5 . s o u t h  5R691ipUYRDYW6ehapjoj6   \n",
      "11                                       a m a r i  2cnKST6T9qUo2i907lm8zX   \n",
      "12                        Look Alive (feat. Drake)  6HJ34Zyw6bg8yGm28AxLXf   \n",
      "13                      1 0 0 . m i l ‘ (with Bas)  4n6NDfYake476trCjJRNl0   \n",
      "14                                 ANGELS & DEMONS  3mkz6eI4Sram8UhO3teU76   \n",
      "15                               Seven Nation Army  3dPQuX8Gs42Y7b454ybpMR   \n",
      "16                                 Come As You Are  4P5KoWXOxwuobLmHXLMobV   \n",
      "17                                        Santeria  2hnMS47jN0etwvFPzYk11f   \n",
      "18                                  Hollywood Baby  0oigSejhoNen2EdNAIFcm5   \n",
      "19                           Call Me What You Like  2QF8FbGBTXTzm0CRUWqndE   \n",
      "\n",
      "          Artist_Name               Artist_ID  Artist_Num  Track_Len  \n",
      "0        Lil Uzi Vert  4O15NlyKLIASxsJ0PrXPfz           3    163.139  \n",
      "1         Post Malone  246dkjvS1zLTtiykXe5h60           1    183.379  \n",
      "2        Dominic Fike  6USv9qhCn6zfxlBQIYJ9qs           1    177.666  \n",
      "3        Dominic Fike  6USv9qhCn6zfxlBQIYJ9qs           1    126.465  \n",
      "4         Post Malone  246dkjvS1zLTtiykXe5h60           1    205.287  \n",
      "5                 Lit  5mgr0FFpvy267wKVAYg8qp           1    169.026  \n",
      "6             J. Cole  6l3HvQ5sa6mXTsMTB19rO5           2    238.971  \n",
      "7             J. Cole  6l3HvQ5sa6mXTsMTB19rO5           1    177.337  \n",
      "8             J. Cole  6l3HvQ5sa6mXTsMTB19rO5           3    218.801  \n",
      "9             J. Cole  6l3HvQ5sa6mXTsMTB19rO5           1    112.578  \n",
      "10            J. Cole  6l3HvQ5sa6mXTsMTB19rO5           1    196.946  \n",
      "11            J. Cole  6l3HvQ5sa6mXTsMTB19rO5           1    148.421  \n",
      "12         BlocBoy JB  4TEJudQY2pXxVHPE3gD2EU           2    181.414  \n",
      "13            J. Cole  6l3HvQ5sa6mXTsMTB19rO5           2    163.302  \n",
      "14               jxdn  6Y64EaNqpqcZYTgs4c76gF           1    160.119  \n",
      "15  The White Stripes  4F84IBURUo98rz4r61KF70           1    232.106  \n",
      "16            Nirvana  6olE6TJLqED3rqDCT0FyPh           1    218.920  \n",
      "17            Sublime  0EdvGhlC1FkGItLOWQzG4J           1    182.746  \n",
      "18           100 gecs  6PfSUFtkMVoDkx4MQkzOi3           1    187.693  \n",
      "19            Lovejoy  33tFkBLsl6f8TjKkV0uF0C           1    226.960  \n"
     ]
    }
   ],
   "source": [
    "# Loop 3\n",
    "\n",
    "# Initialize df\n",
    "df = []\n",
    "# Set scope\n",
    "scope = \"user-library-read playlist-read-private playlist-modify-public playlist-modify-private\"\n",
    "# Authorize\n",
    "sp = spotipy.Spotify(auth_manager=SpotifyOAuth(scope=scope))\n",
    "# Get saved tracks\n",
    "result = sp.current_user_saved_tracks(limit = 20, offset = 0, market = None)\n",
    "\n",
    "# Loop through saved tracks\n",
    "for item in result['items']:\n",
    "    track = item['track']\n",
    "    \n",
    "    # Assign Variables\n",
    "    Track_Name = track['name']\n",
    "    Track_ID = track['id']\n",
    "    Artist_Name = track['artists'][0]['name']\n",
    "    Artist_ID = track['artists'][0]['id']\n",
    "    Artist_Num = len(track['artists'])\n",
    "    Track_Len = track['duration_ms']/1000\n",
    "    # Add values to df\n",
    "    df.append({\n",
    "        'Track_Name' : Track_Name,\n",
    "        'Track_ID' : Track_ID,\n",
    "        'Artist_Name' : Artist_Name,\n",
    "        'Artist_ID' : Artist_ID,\n",
    "        'Artist_Num' : Artist_Num,\n",
    "        'Track_Len' : Track_Len\n",
    "    })\n",
    "df = pd.DataFrame(df, columns=['Track_Name','Track_ID','Artist_Name','Artist_ID','Artist_Num','Track_Len'])\n",
    "print(df)\n",
    "    "
   ]
  },
  {
   "cell_type": "code",
   "execution_count": null,
   "id": "0fbf5084",
   "metadata": {},
   "outputs": [],
   "source": []
  }
 ],
 "metadata": {
  "kernelspec": {
   "display_name": "Python 3 (ipykernel)",
   "language": "python",
   "name": "python3"
  },
  "language_info": {
   "codemirror_mode": {
    "name": "ipython",
    "version": 3
   },
   "file_extension": ".py",
   "mimetype": "text/x-python",
   "name": "python",
   "nbconvert_exporter": "python",
   "pygments_lexer": "ipython3",
   "version": "3.11.3"
  }
 },
 "nbformat": 4,
 "nbformat_minor": 5
}
