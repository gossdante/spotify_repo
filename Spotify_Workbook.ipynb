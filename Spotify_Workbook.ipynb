{
 "cells": [
  {
   "cell_type": "markdown",
   "id": "6974153a",
   "metadata": {},
   "source": [
    "# Spotify Exploration\n",
    "\n",
    "As of now (8/17/2023) I have only done this in R. So before we create the functions, we will recreate the functionality of my R script. \n",
    "\n",
    "1. Install Necessary Packages\n",
    "2. Set system environments appropriately for Spotify ID's\n",
    "3. Experiment with the Spotipy package\n",
    "a. Get songs from an artist\n",
    "b. Using track_id, get the song info (length, tempo, danceability, energy)\n",
    "4. How many songs do I have saved?\n",
    "5. Read in names of all songs\n",
    "6. Get relevant data from all songs\n",
    "7. Manage the dataframe\n",
    "8. Create playlist groupings by tempo\n",
    "9. Create playlist groupings by danceability\n",
    "10. Create playlist groupings by energy\n",
    "11. Write Playlist\n",
    "12. Work with functions"
   ]
  },
  {
   "cell_type": "markdown",
   "id": "1e8cf9ce",
   "metadata": {},
   "source": [
    "# 1. Import Packages"
   ]
  },
  {
   "cell_type": "code",
   "execution_count": 6,
   "id": "9a5e8f07",
   "metadata": {},
   "outputs": [],
   "source": [
    "import config\n",
    "import pandas as pd\n",
    "import numpy as np\n"
   ]
  },
  {
   "cell_type": "code",
   "execution_count": 9,
   "id": "a020cd2c",
   "metadata": {},
   "outputs": [
    {
     "data": {
      "text/plain": [
       "'5fff3feeed114f83b99716b79cebebbd'"
      ]
     },
     "execution_count": 9,
     "metadata": {},
     "output_type": "execute_result"
    }
   ],
   "source": [
    "config.SPOTIPY_CLIENT_ID"
   ]
  },
  {
   "cell_type": "markdown",
   "id": "0b5bc2c1",
   "metadata": {},
   "source": [
    "# 2. Authorization"
   ]
  },
  {
   "cell_type": "code",
   "execution_count": null,
   "id": "cfe44401",
   "metadata": {},
   "outputs": [],
   "source": [
    "# Spotipy Installation\n",
    "#pip install spotipy --upgrade\n",
    "import spotipy\n",
    "from spotipy.oauth2 import SpotifyClientCredentials\n",
    "auth_manager = SpotifyClientCredentials()\n",
    "sp = spotipy.Spotify(auth_manager=auth_manager)"
   ]
  }
 ],
 "metadata": {
  "kernelspec": {
   "display_name": "Python 3 (ipykernel)",
   "language": "python",
   "name": "python3"
  },
  "language_info": {
   "codemirror_mode": {
    "name": "ipython",
    "version": 3
   },
   "file_extension": ".py",
   "mimetype": "text/x-python",
   "name": "python",
   "nbconvert_exporter": "python",
   "pygments_lexer": "ipython3",
   "version": "3.11.3"
  }
 },
 "nbformat": 4,
 "nbformat_minor": 5
}
